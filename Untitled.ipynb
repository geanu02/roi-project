{
 "cells": [
  {
   "cell_type": "markdown",
   "id": "f5317d20",
   "metadata": {},
   "source": [
    "## Cash on Cash ROI Calculator"
   ]
  },
  {
   "cell_type": "markdown",
   "id": "46bafccd",
   "metadata": {},
   "source": [
    "### Income\n",
    "- Rental Income\n",
    "- Laundry Income\n",
    "- Storage Income\n",
    "- Miscellaneous\n",
    "\n",
    "`Calculate Total Monthly Income: Add All Income`\n",
    "\n",
    "### Expenses\n",
    "- Tax\n",
    "- Insurance\n",
    "- Utilities\n",
    "    - Electricity\n",
    "    - Water\n",
    "    - Sewer\n",
    "    - Garbage\n",
    "    - Gas\n",
    "- Homeowners' Association\n",
    "- Lawn / Snow Care\n",
    "- Vacancy\n",
    "- Repair\n",
    "- Capital Expenditure (CapEx)\n",
    "- Property Management\n",
    "- Mortgage\n",
    "\n",
    "`Calculate Total Monthly Expenses: Add All Expenses`\n",
    "\n",
    "### Cash Flow\n",
    "- Total Monthly Income\n",
    "- Total Monthly Cash Flow\n",
    "\n",
    "`Calculate Total Monthly Cash Flow: Total Monthly Income - Total Monthly Expenses`\n",
    "\n",
    "### Cash on Cash Return of Investment\n",
    "- Downpayment\n",
    "- Closing Cost\n",
    "- Rehabilitation Budget\n",
    "- Miscellaneous/Other\n",
    "\n",
    "`Calculate: Total Investment`\n",
    "\n",
    "`Calculate Total Annual Cash Flow: Total Monthly Cash Flow * 12 (months)`\n",
    "\n",
    "`Calculate Cash on Cash ROI: Total Annual Cash Flow / Total Investment`"
   ]
  }
 ],
 "metadata": {
  "kernelspec": {
   "display_name": "Python 3 (ipykernel)",
   "language": "python",
   "name": "python3"
  },
  "language_info": {
   "codemirror_mode": {
    "name": "ipython",
    "version": 3
   },
   "file_extension": ".py",
   "mimetype": "text/x-python",
   "name": "python",
   "nbconvert_exporter": "python",
   "pygments_lexer": "ipython3",
   "version": "3.9.13"
  }
 },
 "nbformat": 4,
 "nbformat_minor": 5
}
